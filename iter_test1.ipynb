{
 "cells": [
  {
   "cell_type": "code",
   "execution_count": 4,
   "metadata": {},
   "outputs": [
    {
     "name": "stdout",
     "output_type": "stream",
     "text": [
      "if a=2.0, x=1.4142135679888783, count=5\n"
     ]
    }
   ],
   "source": [
    "# x^2-a=0, compute x by a\n",
    "import random\n",
    "# a=input(\"input a:\")\n",
    "a=2\n",
    "a=float(a)\n",
    "x1=random.random()\n",
    "x2=x1\n",
    "count=0\n",
    "while True:\n",
    "    count+=1\n",
    "    x2=0.5*(x1+a/x1)\n",
    "    if abs(x2-x1)<0.001:\n",
    "        break\n",
    "    x1=x2\n",
    "print(f\"if a={a}, x={x2}, count={count}\")\n"
   ]
  }
 ],
 "metadata": {
  "kernelspec": {
   "display_name": "ngsim",
   "language": "python",
   "name": "python3"
  },
  "language_info": {
   "codemirror_mode": {
    "name": "ipython",
    "version": 3
   },
   "file_extension": ".py",
   "mimetype": "text/x-python",
   "name": "python",
   "nbconvert_exporter": "python",
   "pygments_lexer": "ipython3",
   "version": "3.7.9"
  }
 },
 "nbformat": 4,
 "nbformat_minor": 2
}
